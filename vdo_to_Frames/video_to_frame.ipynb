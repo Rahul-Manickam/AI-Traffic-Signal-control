{
 "cells": [
  {
   "cell_type": "code",
   "execution_count": 1,
   "id": "3d4204cc",
   "metadata": {},
   "outputs": [],
   "source": [
    "import cv2\n",
    "import os"
   ]
  },
  {
   "cell_type": "code",
   "execution_count": 2,
   "id": "de4f8a98",
   "metadata": {},
   "outputs": [],
   "source": [
    "\n",
    "def video_to_frames(video_path, output_dir, frame_rate=1, resize_width=None):\n",
    "    \n",
    "    # Check if the video file exists\n",
    "    if not os.path.exists(video_path):\n",
    "        raise FileNotFoundError(f\"Video file not found: {video_path}\")\n",
    "\n",
    "    os.makedirs(output_dir, exist_ok=True)\n",
    "\n",
    "    cap = cv2.VideoCapture(video_path)\n",
    "    if not cap.isOpened():\n",
    "        raise Exception(f\"Error opening video file: {video_path}\")\n",
    "\n",
    "    frame_count = 0\n",
    "    while cap.isOpened():\n",
    "        ret, frame = cap.read()\n",
    "\n",
    "        if not ret:\n",
    "            break  \n",
    "\n",
    "        if frame_count % frame_rate == 0:\n",
    "            \n",
    "            if resize_width is not None:\n",
    "                height = int(frame.shape[0] * resize_width / frame.shape[1])\n",
    "                dimensions = (resize_width, height)\n",
    "                frame = cv2.resize(frame, dimensions, interpolation=cv2.INTER_AREA)\n",
    "\n",
    "            frame_filename = os.path.join(output_dir, f'frame_{frame_count:04d}.jpg')\n",
    "            cv2.imwrite(frame_filename, frame)\n",
    "\n",
    "        frame_count += 1\n",
    "\n",
    "    cap.release()\n",
    "    print(f\"Extracted {frame_count} frames to {output_dir}\")"
   ]
  },
  {
   "cell_type": "code",
   "execution_count": 3,
   "id": "7ccbe9b6",
   "metadata": {},
   "outputs": [
    {
     "name": "stdout",
     "output_type": "stream",
     "text": [
      "Extracted 1784 frames to extracted_frames\n"
     ]
    }
   ],
   "source": [
    "if __name__ == '__main__':\n",
    "    video_path = 'test.mp4'  \n",
    "    output_dir = 'extracted_frames'       \n",
    "    frame_rate = 60                       \n",
    "    resize_width = 640                    \n",
    "    video_to_frames(video_path, output_dir, frame_rate, resize_width)"
   ]
  }
 ],
 "metadata": {
  "kernelspec": {
   "display_name": "Python 3 (ipykernel)",
   "language": "python",
   "name": "python3"
  },
  "language_info": {
   "codemirror_mode": {
    "name": "ipython",
    "version": 3
   },
   "file_extension": ".py",
   "mimetype": "text/x-python",
   "name": "python",
   "nbconvert_exporter": "python",
   "pygments_lexer": "ipython3",
   "version": "3.11.7"
  }
 },
 "nbformat": 4,
 "nbformat_minor": 5
}
