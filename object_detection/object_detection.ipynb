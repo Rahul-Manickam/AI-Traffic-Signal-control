{
 "cells": [
  {
   "cell_type": "code",
   "execution_count": 1,
   "id": "cf870b5f",
   "metadata": {},
   "outputs": [
    {
     "name": "stderr",
     "output_type": "stream",
     "text": [
      "YOLOv5  2024-7-1 Python-3.11.7 torch-2.3.1+cpu CPU\n",
      "\n",
      "Fusing layers... \n",
      "YOLOv5s summary: 213 layers, 7225885 parameters, 0 gradients, 16.4 GFLOPs\n",
      "Adding AutoShape... \n"
     ]
    }
   ],
   "source": [
    "import cv2\n",
    "import torch\n",
    "import os\n",
    "model = torch.hub.load('ultralytics/yolov5', 'yolov5s',verbose=False)\n",
    "\n",
    "def detect_objects(frame_path, model, output_dir, conf_threshold=0.5, iou_threshold=0.45):\n",
    "    \n",
    "\n",
    "    if not os.path.exists(frame_path):\n",
    "        raise FileNotFoundError(f\"Frame file not found: {frame_path}\")\n",
    "\n",
    "    img = cv2.imread(frame_path)\n",
    "    results = model(img)\n",
    "\n",
    "    # Process results (with class filtering)\n",
    "    allowed_classes = [2, 3, 5, 7, 0, 9, 11, 1] \n",
    "    for pred in results.pred[0]:\n",
    "        conf = pred[-1]\n",
    "        if conf > conf_threshold:\n",
    "            class_id = int(pred[5])\n",
    "            if class_id not in allowed_classes:\n",
    "                continue\n",
    "\n",
    "            bbox = pred[:4].detach().cpu().numpy().astype(int)\n",
    "            x1, y1, x2, y2 = bbox\n",
    "\n",
    "            # Get class label and confidence\n",
    "            label = model.names[class_id]\n",
    "            score = round(conf.item(), 2)\n",
    "\n",
    "            # Draw bounding box and label\n",
    "            cv2.rectangle(img, (x1, y1), (x2, y2), (0, 255, 0), 2)\n",
    "            label_text = f\"{label}: {score}\"\n",
    "            cv2.putText(img, label_text, (x1, y1 - 10), cv2.FONT_HERSHEY_SIMPLEX, 0.5, (0, 255, 0), 2)\n",
    "    \n",
    "    # Save annotated frame\n",
    "    output_path = os.path.join(output_dir, os.path.basename(frame_path))\n",
    "    cv2.imwrite(output_path, img)\n",
    "\n",
    "if __name__ == \"__main__\":\n",
    "\n",
    "    frames_dir = \"extracted_frames/\"\n",
    "    output_dir = \"annotated_frames/\"  \n",
    "    os.makedirs(output_dir, exist_ok=True)\n",
    "\n",
    "    for filename in os.listdir(frames_dir):\n",
    "        if filename.endswith(\".jpg\"):\n",
    "            frame_path = os.path.join(frames_dir, filename)\n",
    "            detect_objects(frame_path, model, output_dir)\n",
    "\n"
   ]
  }
 ],
 "metadata": {
  "kernelspec": {
   "display_name": "Python 3 (ipykernel)",
   "language": "python",
   "name": "python3"
  },
  "language_info": {
   "codemirror_mode": {
    "name": "ipython",
    "version": 3
   },
   "file_extension": ".py",
   "mimetype": "text/x-python",
   "name": "python",
   "nbconvert_exporter": "python",
   "pygments_lexer": "ipython3",
   "version": "3.11.7"
  }
 },
 "nbformat": 4,
 "nbformat_minor": 5
}
