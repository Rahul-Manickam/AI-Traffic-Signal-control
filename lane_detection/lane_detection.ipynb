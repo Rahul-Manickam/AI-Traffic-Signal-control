{
 "cells": [
  {
   "cell_type": "code",
   "execution_count": 1,
   "id": "c6d06cd2",
   "metadata": {},
   "outputs": [],
   "source": [
    "import cv2\n",
    "import numpy as np\n",
    "import os\n",
    "\n",
    "def detect_lanes(frame, frame_filename, output_dir):\n",
    "\n",
    "    gray = cv2.cvtColor(frame, cv2.COLOR_BGR2GRAY)\n",
    "    blurred = cv2.GaussianBlur(gray, (5, 5), 0)\n",
    "    edges = cv2.Canny(blurred, 50, 150)\n",
    "\n",
    "    height, width = edges.shape\n",
    "    vertices = np.array([[(0, height), (width // 2, height // 2), (width, height)]], dtype=np.int32)\n",
    "    mask = np.zeros_like(edges)\n",
    "    cv2.fillPoly(mask, vertices, 255)\n",
    "    masked_edges = cv2.bitwise_and(edges, mask)\n",
    "\n",
    "    lines = cv2.HoughLinesP(masked_edges, 1, np.pi / 180, 100, minLineLength=50, maxLineGap=10)\n",
    "\n",
    "    # Draw lanes on the original frame\n",
    "    if lines is not None:\n",
    "        for line in lines:\n",
    "            x1, y1, x2, y2 = line[0]\n",
    "            cv2.line(frame, (x1, y1), (x2, y2), (0, 0, 255), 2) \n",
    "\n",
    "    # Save the annotated frame\n",
    "    output_path = os.path.join(output_dir, os.path.splitext(frame_filename)[0] + '_lanes.jpg')  \n",
    "    cv2.imwrite(output_path, frame)\n",
    "\n",
    "    return lines  \n",
    "\n",
    "\n",
    "if __name__ == \"__main__\":\n",
    "    frames_dir = \"extracted_frames/\"\n",
    "    output_dir = \"lanes_visualized/\"  \n",
    "    os.makedirs(output_dir, exist_ok=True)\n",
    "\n",
    "    for filename in os.listdir(frames_dir):\n",
    "        if filename.endswith(\".jpg\"):\n",
    "            frame_path = os.path.join(frames_dir, filename)\n",
    "            frame = cv2.imread(frame_path)\n",
    "\n",
    "            \n",
    "            detect_lanes(frame, filename, output_dir)\n",
    "\n"
   ]
  }
 ],
 "metadata": {
  "kernelspec": {
   "display_name": "Python 3 (ipykernel)",
   "language": "python",
   "name": "python3"
  },
  "language_info": {
   "codemirror_mode": {
    "name": "ipython",
    "version": 3
   },
   "file_extension": ".py",
   "mimetype": "text/x-python",
   "name": "python",
   "nbconvert_exporter": "python",
   "pygments_lexer": "ipython3",
   "version": "3.11.7"
  }
 },
 "nbformat": 4,
 "nbformat_minor": 5
}
